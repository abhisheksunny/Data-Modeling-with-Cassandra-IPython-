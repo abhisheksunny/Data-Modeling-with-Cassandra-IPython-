{
 "cells": [
  {
   "cell_type": "markdown",
   "metadata": {},
   "source": [
    "# Part I. ETL Pipeline for Pre-Processing the Files"
   ]
  },
  {
   "cell_type": "markdown",
   "metadata": {},
   "source": [
    "#### Import Python packages "
   ]
  },
  {
   "cell_type": "code",
   "execution_count": 1,
   "metadata": {},
   "outputs": [],
   "source": [
    "# Import Python packages \n",
    "import pandas as pd\n",
    "import cassandra\n",
    "import re\n",
    "import os\n",
    "import glob\n",
    "import numpy as np\n",
    "import json\n",
    "import csv\n",
    "from IPython.display import display"
   ]
  },
  {
   "cell_type": "markdown",
   "metadata": {},
   "source": [
    "#### Using **event_datafile_new.csv** directly"
   ]
  },
  {
   "cell_type": "code",
   "execution_count": 2,
   "metadata": {},
   "outputs": [
    {
     "data": {
      "text/html": [
       "<div>\n",
       "<style scoped>\n",
       "    .dataframe tbody tr th:only-of-type {\n",
       "        vertical-align: middle;\n",
       "    }\n",
       "\n",
       "    .dataframe tbody tr th {\n",
       "        vertical-align: top;\n",
       "    }\n",
       "\n",
       "    .dataframe thead th {\n",
       "        text-align: right;\n",
       "    }\n",
       "</style>\n",
       "<table border=\"1\" class=\"dataframe\">\n",
       "  <thead>\n",
       "    <tr style=\"text-align: right;\">\n",
       "      <th></th>\n",
       "      <th>artist</th>\n",
       "      <th>firstName</th>\n",
       "      <th>gender</th>\n",
       "      <th>itemInSession</th>\n",
       "      <th>lastName</th>\n",
       "      <th>length</th>\n",
       "      <th>level</th>\n",
       "      <th>location</th>\n",
       "      <th>sessionId</th>\n",
       "      <th>song</th>\n",
       "      <th>userId</th>\n",
       "    </tr>\n",
       "  </thead>\n",
       "  <tbody>\n",
       "    <tr>\n",
       "      <th>0</th>\n",
       "      <td>Miami Horror</td>\n",
       "      <td>Kate</td>\n",
       "      <td>F</td>\n",
       "      <td>88</td>\n",
       "      <td>Harrell</td>\n",
       "      <td>250.8273</td>\n",
       "      <td>paid</td>\n",
       "      <td>Lansing-East Lansing, MI</td>\n",
       "      <td>293</td>\n",
       "      <td>Sometimes</td>\n",
       "      <td>97</td>\n",
       "    </tr>\n",
       "    <tr>\n",
       "      <th>1</th>\n",
       "      <td>The White Stripes</td>\n",
       "      <td>Kate</td>\n",
       "      <td>F</td>\n",
       "      <td>89</td>\n",
       "      <td>Harrell</td>\n",
       "      <td>241.8673</td>\n",
       "      <td>paid</td>\n",
       "      <td>Lansing-East Lansing, MI</td>\n",
       "      <td>293</td>\n",
       "      <td>My Doorbell (Album Version)</td>\n",
       "      <td>97</td>\n",
       "    </tr>\n",
       "  </tbody>\n",
       "</table>\n",
       "</div>"
      ],
      "text/plain": [
       "              artist firstName gender  itemInSession lastName    length level  \\\n",
       "0       Miami Horror      Kate      F             88  Harrell  250.8273  paid   \n",
       "1  The White Stripes      Kate      F             89  Harrell  241.8673  paid   \n",
       "\n",
       "                   location  sessionId                         song  userId  \n",
       "0  Lansing-East Lansing, MI        293                    Sometimes      97  \n",
       "1  Lansing-East Lansing, MI        293  My Doorbell (Album Version)      97  "
      ]
     },
     "metadata": {},
     "output_type": "display_data"
    }
   ],
   "source": [
    "# Using event_datafile_new.csv File directly due to incorrect data in \"event_data\" directory.\n",
    "\n",
    "file = 'event_datafile_new.csv'\n",
    "event_data = pd.read_csv(os.getcwd()+\"/\"+file) \n",
    "display(event_data.iloc[0:2])"
   ]
  },
  {
   "cell_type": "code",
   "execution_count": 3,
   "metadata": {},
   "outputs": [
    {
     "name": "stdout",
     "output_type": "stream",
     "text": [
      "Rows in File = 6821\n",
      "DataFrame Rows = 6820\n",
      "DataFrame Columns = 11\n"
     ]
    }
   ],
   "source": [
    "# checking the number of rows in csv file\n",
    "data_rows_list = []\n",
    "with open('event_datafile_new.csv', 'r', encoding = 'utf8') as f:\n",
    "    print(\"Rows in File = \"+str(sum(1 for line in f)))\n",
    "print(\"DataFrame Rows = \"+str(event_data.shape[0]))\n",
    "print(\"DataFrame Columns = \"+str(event_data.shape[1]))\n"
   ]
  },
  {
   "cell_type": "markdown",
   "metadata": {},
   "source": [
    "----\n",
    "# Part II. Apache Cassandra, CQL part of the project. \n",
    "\n",
    "## Ingesting CSV file titled <font color=red>event_datafile_new.csv</font>, located within the Workspace directory to the following three tables using Pandas DataFrame.  \n",
    "## The event_datafile_new.csv contains the following columns: \n",
    "- artist \n",
    "- firstName of user\n",
    "- gender of user\n",
    "- item number in session\n",
    "- last name of user\n",
    "- length of the song\n",
    "- level (paid or free song)\n",
    "- location of the user\n",
    "- sessionId\n",
    "- song title\n",
    "- userId\n",
    "\n",
    "The image below is a screenshot of what the denormalized data should appear like in the <font color=red>**event_datafile_new.csv**</font> after the code above is run:<br>\n",
    "\n",
    "<img src=\"images/image_event_datafile_new.jpg\">"
   ]
  },
  {
   "cell_type": "markdown",
   "metadata": {},
   "source": [
    "## Apache Cassandra code"
   ]
  },
  {
   "cell_type": "markdown",
   "metadata": {},
   "source": [
    "#### Creating a Cluster"
   ]
  },
  {
   "cell_type": "code",
   "execution_count": 4,
   "metadata": {},
   "outputs": [],
   "source": [
    "# Connecting to a Cassandra instance on the local machine \n",
    "\n",
    "from cassandra.cluster import Cluster\n",
    "try: \n",
    "    cluster = Cluster(['127.0.0.1'])\n",
    "    session = cluster.connect() # To establish connection and begin executing queries, need a session\n",
    "except Exception as e:\n",
    "    print(e)\n"
   ]
  },
  {
   "cell_type": "markdown",
   "metadata": {},
   "source": [
    "#### Creating Keyspace"
   ]
  },
  {
   "cell_type": "code",
   "execution_count": 5,
   "metadata": {},
   "outputs": [],
   "source": [
    "# Creating a Keyspace \n",
    "try:\n",
    "    session.execute(\"\"\"\n",
    "    CREATE KEYSPACE IF NOT EXISTS music_keyspace \n",
    "    WITH REPLICATION = \n",
    "    { 'class' : 'SimpleStrategy', 'replication_factor' : 1 }\"\"\"\n",
    ")\n",
    "\n",
    "except Exception as e:\n",
    "    print(e)"
   ]
  },
  {
   "cell_type": "markdown",
   "metadata": {},
   "source": [
    "#### Setting Keyspace"
   ]
  },
  {
   "cell_type": "code",
   "execution_count": 6,
   "metadata": {},
   "outputs": [],
   "source": [
    "# Setting KEYSPACE to the keyspace specified above\n",
    "try:\n",
    "    session.set_keyspace('music_keyspace')\n",
    "except Exception as e:\n",
    "    print(e)"
   ]
  },
  {
   "cell_type": "markdown",
   "metadata": {},
   "source": [
    "----\n",
    "### Creating queries to answer the following three questions of the data:\n",
    "\n",
    "##### 1. Fetching the artist, song title and song's length in the music app history that was heard during sessionId = 338 and itemInSession  = 4\n",
    "\n",
    "##### 2. Fetching the name of artist, song (sorted by itemInSession) and user's first and last name for userid = 10 and sessionid = 182\n",
    "    \n",
    "##### 3. Fetching the user name (first and last) in the music app history who listened to the song 'All Hands Against His Own'\n",
    "</br>"
   ]
  },
  {
   "cell_type": "markdown",
   "metadata": {},
   "source": [
    "### **Query-1**"
   ]
  },
  {
   "cell_type": "code",
   "execution_count": 7,
   "metadata": {},
   "outputs": [],
   "source": [
    "## Query 1:  Fetching the artist, song title and song's length in the music app history\n",
    "## Condition - sessionId = 338, and itemInSession = 4\n",
    "drop_session_details = \"DROP TABLE IF EXISTS session_details\" \n",
    "\n",
    "create_session_details = \"\"\"\n",
    "CREATE TABLE IF NOT EXISTS session_details \n",
    "(\n",
    "    session_id INT, \n",
    "    item_in_session INT,\n",
    "    artist_name TEXT, \n",
    "    song_name TEXT, \n",
    "    song_length DECIMAL, \n",
    "    PRIMARY KEY (\n",
    "        session_id, \n",
    "        item_in_session\n",
    "    )\n",
    ")\n",
    "\"\"\"\n",
    "try:\n",
    "    session.execute(drop_session_details)\n",
    "    session.execute(create_session_details)\n",
    "except Exception as e:\n",
    "    print(e)                   "
   ]
  },
  {
   "cell_type": "code",
   "execution_count": 8,
   "metadata": {
    "scrolled": false
   },
   "outputs": [],
   "source": [
    "#INSERT statement for table session_details\n",
    "insert_session_details = \"\"\"\n",
    "INSERT INTO session_details\n",
    "(session_id, item_in_session, artist_name, song_name, song_length)\n",
    "VALUES (%s, %s, %s, %s, %s)\n",
    "\"\"\"\n",
    "for index, row in event_data.iterrows():\n",
    "    data_to_insert = (row.sessionId, row.itemInSession, row.artist, row.song, row.length)\n",
    "    session.execute(insert_session_details, data_to_insert)\n"
   ]
  },
  {
   "cell_type": "code",
   "execution_count": 9,
   "metadata": {
    "scrolled": true
   },
   "outputs": [
    {
     "data": {
      "text/html": [
       "<div>\n",
       "<style scoped>\n",
       "    .dataframe tbody tr th:only-of-type {\n",
       "        vertical-align: middle;\n",
       "    }\n",
       "\n",
       "    .dataframe tbody tr th {\n",
       "        vertical-align: top;\n",
       "    }\n",
       "\n",
       "    .dataframe thead th {\n",
       "        text-align: right;\n",
       "    }\n",
       "</style>\n",
       "<table border=\"1\" class=\"dataframe\">\n",
       "  <thead>\n",
       "    <tr style=\"text-align: right;\">\n",
       "      <th></th>\n",
       "      <th>session_id</th>\n",
       "      <th>item_in_session</th>\n",
       "      <th>artist_name</th>\n",
       "      <th>song_name</th>\n",
       "      <th>song_length</th>\n",
       "    </tr>\n",
       "  </thead>\n",
       "  <tbody>\n",
       "    <tr>\n",
       "      <th>0</th>\n",
       "      <td>338</td>\n",
       "      <td>4</td>\n",
       "      <td>Faithless</td>\n",
       "      <td>Music Matters (Mark Knight Dub)</td>\n",
       "      <td>495.3073</td>\n",
       "    </tr>\n",
       "  </tbody>\n",
       "</table>\n",
       "</div>"
      ],
      "text/plain": [
       "   session_id  item_in_session artist_name                        song_name  \\\n",
       "0         338                4   Faithless  Music Matters (Mark Knight Dub)   \n",
       "\n",
       "  song_length  \n",
       "0    495.3073  "
      ]
     },
     "metadata": {},
     "output_type": "display_data"
    }
   ],
   "source": [
    "## Fetching the output with conditions sessionId = 338 and itemInSession = 4\n",
    "query = \"\"\"\n",
    "SELECT \n",
    "    session_id, \n",
    "    item_in_session, \n",
    "    artist_name, \n",
    "    song_name, \n",
    "    song_length \n",
    "FROM \n",
    "    session_details \n",
    "WHERE \n",
    "    session_id = 338 \n",
    "    AND item_in_session  = 4\n",
    "\"\"\"\n",
    "try:\n",
    "    out_df = pd.DataFrame(list(session.execute(query)))\n",
    "except Exception as e:\n",
    "    print(e)\n",
    "display(out_df)"
   ]
  },
  {
   "cell_type": "markdown",
   "metadata": {},
   "source": [
    "### **Query-2**"
   ]
  },
  {
   "cell_type": "code",
   "execution_count": 10,
   "metadata": {},
   "outputs": [],
   "source": [
    "## Query 2: Fetching name of artist, song  and user's first and last name\n",
    "## Condition -  userid = 10, sessionid = 182\n",
    "## Order - sorted by itemInSession\n",
    "drop_user_session_details = \"DROP TABLE IF EXISTS user_session_details\" \n",
    "create_user_session_details = \"\"\"\n",
    "CREATE TABLE IF NOT EXISTS user_session_details \n",
    "(\n",
    "    user_id INT, \n",
    "    session_id INT, \n",
    "    item_in_session INT, \n",
    "    artist_name TEXT, \n",
    "    song_name TEXT, \n",
    "    firstname TEXT,\n",
    "    lastname TEXT, \n",
    "    PRIMARY KEY \n",
    "    (\n",
    "        (\n",
    "            user_id,\n",
    "            session_id\n",
    "        ),\n",
    "        item_in_session\n",
    "    )\n",
    ")\n",
    "\"\"\"\n",
    "try:\n",
    "    session.execute(drop_user_session_details)\n",
    "    session.execute(create_user_session_details)\n",
    "except Exception as e:\n",
    "    print(e)           "
   ]
  },
  {
   "cell_type": "code",
   "execution_count": 11,
   "metadata": {},
   "outputs": [],
   "source": [
    "#INSERT statement for table session_details\n",
    "insert_session_details = \"\"\"\n",
    "INSERT INTO user_session_details\n",
    "(user_id, session_id, item_in_session, artist_name, song_name, firstname, lastname)\n",
    "VALUES (%s, %s, %s, %s, %s, %s, %s)\n",
    "\"\"\"\n",
    "for index, row in event_data.iterrows():\n",
    "    data_to_insert = (row.userId, row.sessionId, row.itemInSession, row.artist, row.song, row.firstName, row.lastName)\n",
    "    session.execute(insert_session_details, data_to_insert)\n"
   ]
  },
  {
   "cell_type": "code",
   "execution_count": 12,
   "metadata": {},
   "outputs": [
    {
     "data": {
      "text/html": [
       "<div>\n",
       "<style scoped>\n",
       "    .dataframe tbody tr th:only-of-type {\n",
       "        vertical-align: middle;\n",
       "    }\n",
       "\n",
       "    .dataframe tbody tr th {\n",
       "        vertical-align: top;\n",
       "    }\n",
       "\n",
       "    .dataframe thead th {\n",
       "        text-align: right;\n",
       "    }\n",
       "</style>\n",
       "<table border=\"1\" class=\"dataframe\">\n",
       "  <thead>\n",
       "    <tr style=\"text-align: right;\">\n",
       "      <th></th>\n",
       "      <th>user_id</th>\n",
       "      <th>session_id</th>\n",
       "      <th>item_in_session</th>\n",
       "      <th>artist_name</th>\n",
       "      <th>song_name</th>\n",
       "      <th>firstname</th>\n",
       "      <th>lastname</th>\n",
       "    </tr>\n",
       "  </thead>\n",
       "  <tbody>\n",
       "    <tr>\n",
       "      <th>0</th>\n",
       "      <td>10</td>\n",
       "      <td>182</td>\n",
       "      <td>0</td>\n",
       "      <td>Down To The Bone</td>\n",
       "      <td>Keep On Keepin' On</td>\n",
       "      <td>Sylvie</td>\n",
       "      <td>Cruz</td>\n",
       "    </tr>\n",
       "    <tr>\n",
       "      <th>1</th>\n",
       "      <td>10</td>\n",
       "      <td>182</td>\n",
       "      <td>1</td>\n",
       "      <td>Three Drives</td>\n",
       "      <td>Greece 2000</td>\n",
       "      <td>Sylvie</td>\n",
       "      <td>Cruz</td>\n",
       "    </tr>\n",
       "    <tr>\n",
       "      <th>2</th>\n",
       "      <td>10</td>\n",
       "      <td>182</td>\n",
       "      <td>2</td>\n",
       "      <td>Sebastien Tellier</td>\n",
       "      <td>Kilometer</td>\n",
       "      <td>Sylvie</td>\n",
       "      <td>Cruz</td>\n",
       "    </tr>\n",
       "    <tr>\n",
       "      <th>3</th>\n",
       "      <td>10</td>\n",
       "      <td>182</td>\n",
       "      <td>3</td>\n",
       "      <td>Lonnie Gordon</td>\n",
       "      <td>Catch You Baby (Steve Pitron &amp; Max Sanna Radio...</td>\n",
       "      <td>Sylvie</td>\n",
       "      <td>Cruz</td>\n",
       "    </tr>\n",
       "  </tbody>\n",
       "</table>\n",
       "</div>"
      ],
      "text/plain": [
       "   user_id  session_id  item_in_session        artist_name  \\\n",
       "0       10         182                0   Down To The Bone   \n",
       "1       10         182                1       Three Drives   \n",
       "2       10         182                2  Sebastien Tellier   \n",
       "3       10         182                3      Lonnie Gordon   \n",
       "\n",
       "                                           song_name firstname lastname  \n",
       "0                                 Keep On Keepin' On    Sylvie     Cruz  \n",
       "1                                        Greece 2000    Sylvie     Cruz  \n",
       "2                                          Kilometer    Sylvie     Cruz  \n",
       "3  Catch You Baby (Steve Pitron & Max Sanna Radio...    Sylvie     Cruz  "
      ]
     },
     "metadata": {},
     "output_type": "display_data"
    }
   ],
   "source": [
    "query = \"\"\"\n",
    "SELECT \n",
    "    user_id, \n",
    "    session_id, \n",
    "    item_in_session,\n",
    "    artist_name, \n",
    "    song_name, \n",
    "    firstname, \n",
    "    lastname\n",
    "FROM \n",
    "    user_session_details \n",
    "WHERE \n",
    "    user_id = 10\n",
    "    AND session_id = 182\n",
    "\"\"\"\n",
    "try:\n",
    "    out_df = pd.DataFrame(list(session.execute(query)))\n",
    "except Exception as e:\n",
    "    print(e)\n",
    "display(out_df)"
   ]
  },
  {
   "cell_type": "markdown",
   "metadata": {},
   "source": [
    "### **Query-3**"
   ]
  },
  {
   "cell_type": "code",
   "execution_count": 13,
   "metadata": {},
   "outputs": [],
   "source": [
    "## Query 3: Fetching user's first and last name in my music app history \n",
    "## Condition - Listened to the song 'All Hands Against His Own'\n",
    "drop_user_activity = \"DROP TABLE IF EXISTS user_activity\" \n",
    "create_user_activity = \"\"\"\n",
    "CREATE TABLE IF NOT EXISTS user_activity \n",
    "(\n",
    "    song_name TEXT, \n",
    "    user_id INT, \n",
    "    firstname TEXT,\n",
    "    lastname TEXT, \n",
    "    PRIMARY KEY \n",
    "    (\n",
    "        (\n",
    "            song_name\n",
    "        ),\n",
    "        user_id\n",
    "    )\n",
    ")\n",
    "\"\"\"\n",
    "try:\n",
    "    session.execute(drop_user_activity)\n",
    "    session.execute(create_user_activity)\n",
    "except Exception as e:\n",
    "    print(e)          "
   ]
  },
  {
   "cell_type": "code",
   "execution_count": 14,
   "metadata": {},
   "outputs": [],
   "source": [
    "insert_user_activity = \"\"\"\n",
    "INSERT INTO user_activity\n",
    "(song_name, user_id, firstname, lastname)\n",
    "VALUES (%s, %s, %s, %s)\n",
    "\"\"\"\n",
    "for index, row in event_data.iterrows():\n",
    "    data_to_insert = (row.song, row.userId, row.firstName, row.lastName)\n",
    "    session.execute(insert_user_activity, data_to_insert)"
   ]
  },
  {
   "cell_type": "code",
   "execution_count": 15,
   "metadata": {},
   "outputs": [
    {
     "data": {
      "text/html": [
       "<div>\n",
       "<style scoped>\n",
       "    .dataframe tbody tr th:only-of-type {\n",
       "        vertical-align: middle;\n",
       "    }\n",
       "\n",
       "    .dataframe tbody tr th {\n",
       "        vertical-align: top;\n",
       "    }\n",
       "\n",
       "    .dataframe thead th {\n",
       "        text-align: right;\n",
       "    }\n",
       "</style>\n",
       "<table border=\"1\" class=\"dataframe\">\n",
       "  <thead>\n",
       "    <tr style=\"text-align: right;\">\n",
       "      <th></th>\n",
       "      <th>song_name</th>\n",
       "      <th>firstname</th>\n",
       "      <th>lastname</th>\n",
       "    </tr>\n",
       "  </thead>\n",
       "  <tbody>\n",
       "    <tr>\n",
       "      <th>0</th>\n",
       "      <td>All Hands Against His Own</td>\n",
       "      <td>Jacqueline</td>\n",
       "      <td>Lynch</td>\n",
       "    </tr>\n",
       "    <tr>\n",
       "      <th>1</th>\n",
       "      <td>All Hands Against His Own</td>\n",
       "      <td>Tegan</td>\n",
       "      <td>Levine</td>\n",
       "    </tr>\n",
       "    <tr>\n",
       "      <th>2</th>\n",
       "      <td>All Hands Against His Own</td>\n",
       "      <td>Sara</td>\n",
       "      <td>Johnson</td>\n",
       "    </tr>\n",
       "  </tbody>\n",
       "</table>\n",
       "</div>"
      ],
      "text/plain": [
       "                   song_name   firstname lastname\n",
       "0  All Hands Against His Own  Jacqueline    Lynch\n",
       "1  All Hands Against His Own       Tegan   Levine\n",
       "2  All Hands Against His Own        Sara  Johnson"
      ]
     },
     "metadata": {},
     "output_type": "display_data"
    }
   ],
   "source": [
    "query = \"\"\"\n",
    "SELECT \n",
    "    song_name, \n",
    "    firstname, \n",
    "    lastname\n",
    "FROM \n",
    "    user_activity \n",
    "WHERE \n",
    "    song_name = 'All Hands Against His Own'\n",
    "\"\"\"\n",
    "try:\n",
    "    out_df = pd.DataFrame(list(session.execute(query)))\n",
    "except Exception as e:\n",
    "    print(e)\n",
    "display(out_df)"
   ]
  },
  {
   "cell_type": "markdown",
   "metadata": {},
   "source": [
    "### Dropping the tables before closing out the sessions"
   ]
  },
  {
   "cell_type": "code",
   "execution_count": 16,
   "metadata": {},
   "outputs": [],
   "source": [
    "## Dropping the table before closing out the sessions\n",
    "try:\n",
    "    session.execute(drop_session_details)\n",
    "    session.execute(drop_user_session_details)\n",
    "    session.execute(drop_user_activity)\n",
    "except Exception as e:\n",
    "    print(e)          "
   ]
  },
  {
   "cell_type": "markdown",
   "metadata": {},
   "source": [
    "### Close the session and cluster connection¶"
   ]
  },
  {
   "cell_type": "code",
   "execution_count": 17,
   "metadata": {},
   "outputs": [],
   "source": [
    "session.shutdown()\n",
    "cluster.shutdown()"
   ]
  },
  {
   "cell_type": "markdown",
   "metadata": {},
   "source": [
    "## Notebook Ends\n",
    "-----"
   ]
  }
 ],
 "metadata": {
  "kernelspec": {
   "display_name": "Python 3",
   "language": "python",
   "name": "python3"
  },
  "language_info": {
   "codemirror_mode": {
    "name": "ipython",
    "version": 3
   },
   "file_extension": ".py",
   "mimetype": "text/x-python",
   "name": "python",
   "nbconvert_exporter": "python",
   "pygments_lexer": "ipython3",
   "version": "3.6.3"
  }
 },
 "nbformat": 4,
 "nbformat_minor": 2
}
